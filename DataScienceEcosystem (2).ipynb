{
  "nbformat": 4,
  "nbformat_minor": 0,
  "metadata": {
    "colab": {
      "provenance": []
    },
    "kernelspec": {
      "name": "python3",
      "display_name": "Python 3"
    },
    "language_info": {
      "name": "python"
    }
  },
  "cells": [
    {
      "cell_type": "markdown",
      "source": [
        "<center>\n",
        "    <img src=\"https://cf-courses-data.s3.us.cloud-object-storage.appdomain.cloud/IBMDeveloperSkillsNetwork-DS0105EN-SkillsNetwork/labs/Module2/images/SN_web_lightmode.png\" width=\"300\" alt=\"cognitiveclass.ai logo\">\n",
        "</center>"
      ],
      "metadata": {
        "id": "jp5qhz2Bwhrn"
      }
    },
    {
      "cell_type": "markdown",
      "source": [
        "#Data Science Tools and Ecosystem\n"
      ],
      "metadata": {
        "id": "tabHQdzxa7NP"
      }
    },
    {
      "cell_type": "markdown",
      "source": [
        "##In this notebook, Data Science Tools and Ecosystem are summarized\n"
      ],
      "metadata": {
        "id": "HWufLEvha6v8"
      }
    },
    {
      "cell_type": "markdown",
      "source": [
        "**Objectives**\n",
        "- List Popular language for Data Science\n",
        "- Data Science Tools\n",
        "- Most commonly libraries in data Science\n",
        "- Some example about arthimetic operations\n",
        "\n"
      ],
      "metadata": {
        "id": "PHUaIm2urE4s"
      }
    },
    {
      "cell_type": "markdown",
      "source": [
        "###Some of the popular langaguge that Data Scientists use are:\n",
        "\n",
        "1.   Python\n",
        "2.   R language\n",
        "3.   C++*italicised text*\n",
        "4.   Julia\n",
        "5.   Matlab\n",
        "6.   Javascript\n",
        "7.   Stata\n",
        "8.   Java\n",
        "9.   Scala\n",
        "10.  SAS"
      ],
      "metadata": {
        "id": "ISq8QbrabE4S"
      }
    },
    {
      "cell_type": "markdown",
      "source": [
        "| Data Science Tools  |\n",
        "|:--------------------|\n",
        "|Jupyter Notebook     |\n",
        "|Spyder|\n",
        "|VS Code|\n",
        "|RStudio|\n",
        "\n"
      ],
      "metadata": {
        "id": "6iropjw0btDF"
      }
    },
    {
      "cell_type": "markdown",
      "source": [
        "###Below are a few examples of evaluating arithmetic expressions in Python"
      ],
      "metadata": {
        "id": "MohrkIKykdkd"
      }
    },
    {
      "cell_type": "code",
      "source": [
        "# This a simple arithmetic expression to mutiply then add integers\n",
        "(3*4)+5\n"
      ],
      "metadata": {
        "colab": {
          "base_uri": "https://localhost:8080/"
        },
        "id": "_HZCURZelGhj",
        "outputId": "837b25a5-3869-4464-89b3-a5e9562dc452"
      },
      "execution_count": null,
      "outputs": [
        {
          "output_type": "execute_result",
          "data": {
            "text/plain": [
              "17"
            ]
          },
          "metadata": {},
          "execution_count": 1
        }
      ]
    },
    {
      "cell_type": "code",
      "source": [
        "# This will convert 200 minutes to hours by diving by 60\n",
        "200 / 60"
      ],
      "metadata": {
        "colab": {
          "base_uri": "https://localhost:8080/"
        },
        "id": "ufPdWDmbluqJ",
        "outputId": "ef9d7c63-f63c-4a0b-9a29-b6bf42125264"
      },
      "execution_count": null,
      "outputs": [
        {
          "output_type": "execute_result",
          "data": {
            "text/plain": [
              "3.3333333333333335"
            ]
          },
          "metadata": {},
          "execution_count": 3
        }
      ]
    },
    {
      "cell_type": "markdown",
      "source": [
        "## Author\n",
        "faisal Shenawy"
      ],
      "metadata": {
        "id": "uukBMNtVs0P3"
      }
    },
    {
      "cell_type": "markdown",
      "source": [
        "https://github.com/Faisalshenawy/DataScienceEcosystem.git\n"
      ],
      "metadata": {
        "id": "eZVif-L3vVC7"
      }
    },
    {
      "cell_type": "code",
      "source": [],
      "metadata": {
        "id": "SgmrOyxAs2Q3"
      },
      "execution_count": null,
      "outputs": []
    }
  ]
}